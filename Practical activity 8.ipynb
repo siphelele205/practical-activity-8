{
 "cells": [
  {
   "cell_type": "code",
   "execution_count": 1,
   "id": "a2359a4f-f525-4cd0-a28e-0d66f6f259ce",
   "metadata": {},
   "outputs": [
    {
     "name": "stdout",
     "output_type": "stream",
     "text": [
      "5\n"
     ]
    }
   ],
   "source": [
    "def find_max(numbers):\n",
    "    maximum = numbers[0]\n",
    "    for number in numbers:\n",
    "        if number > maximum:\n",
    "            maximum = number\n",
    "    return maximum\n",
    "\n",
    "# Example usage:\n",
    "numbers = [3, 5, 1, 2, 4]\n",
    "print(find_max(numbers))"
   ]
  },
  {
   "cell_type": "code",
   "execution_count": 2,
   "id": "439d1079-50c9-4ce4-b335-adee97fca9d6",
   "metadata": {},
   "outputs": [
    {
     "name": "stdout",
     "output_type": "stream",
     "text": [
      "True\n"
     ]
    }
   ],
   "source": [
    "def contains_word(word_list, word):\n",
    "    for item in word_list:\n",
    "        if item == word:\n",
    "            return True\n",
    "    return False\n",
    "\n",
    "# Example usage:\n",
    "word_list = [\"apple\", \"banana\", \"cherry\"]\n",
    "word = \"banana\"\n",
    "print(contains_word(word_list, word))"
   ]
  },
  {
   "cell_type": "code",
   "execution_count": 3,
   "id": "03dda743-8aee-49ea-8037-d547faa14d39",
   "metadata": {},
   "outputs": [],
   "source": [
    "def check_first_element(lst):\n",
    "    return lst[0] if lst else None\n"
   ]
  },
  {
   "cell_type": "code",
   "execution_count": null,
   "id": "e4d4b741-ea6e-4885-9a31-00d4a2fb6e9a",
   "metadata": {},
   "outputs": [],
   "source": [
    "def check_first_element(lst):\n",
    "def find_sum(lst):\n",
    "total = 0\n",
    "for num in lst:\n",
    "total += num\n",
    "return total"
   ]
  },
  {
   "cell_type": "code",
   "execution_count": 9,
   "id": "2b06e85d-0391-49c7-adaa-f78a626d1bc4",
   "metadata": {},
   "outputs": [
    {
     "name": "stdout",
     "output_type": "stream",
     "text": [
      "[11, 12, 22, 25, 34, 64, 90]\n"
     ]
    }
   ],
   "source": [
    "from typing import List\n",
    "\n",
    "def bubble_sort(arr: List[int]) -> None:\n",
    "    \"\"\"\n",
    "    Sorts a list of integers in ascending order using the Bubble Sort algorithm.\n",
    "\n",
    "    Args:\n",
    "        arr (List[int]): The list of integers to sort.\n",
    "    \"\"\"\n",
    "    n = len(arr)\n",
    "    for i in range(n):\n",
    "        # Last i elements are already sorted\n",
    "        for j in range(0, n-i-1):\n",
    "            # Swap if the element found is greater than the next element\n",
    "            if arr[j] > arr[j+1]:\n",
    "                arr[j], arr[j+1] = arr[j+1], arr[j]\n",
    "\n",
    "# Example usage:\n",
    "example_list = [64, 34, 25, 12, 22, 11, 90]\n",
    "bubble_sort(example_list)\n",
    "print(example_list)  \n"
   ]
  },
  {
   "cell_type": "code",
   "execution_count": 10,
   "id": "55aa3157-4288-48d0-a5cc-0ced8ad00401",
   "metadata": {},
   "outputs": [
    {
     "name": "stdout",
     "output_type": "stream",
     "text": [
      "{1: 1, 2: 2, 3: 3, 4: 4}\n"
     ]
    }
   ],
   "source": [
    "from typing import List, Dict\n",
    "\n",
    "def count_occurrences(lst: List[int]) -> Dict[int, int]:\n",
    "    \"\"\"\n",
    "    Counts the occurrences of each element in the list.\n",
    "\n",
    "    Args:\n",
    "        lst (List[int]): The list of integers to count occurrences in.\n",
    "\n",
    "    Returns:\n",
    "        Dict[int, int]: A dictionary where keys are the elements from the list\n",
    "                        and values are the counts of those elements.\n",
    "    \"\"\"\n",
    "    counts = {}  # Initialize an empty dictionary to store counts\n",
    "\n",
    "    # Iterate over each item in the list\n",
    "    for item in lst:\n",
    "        if item in counts:\n",
    "            counts[item] += 1  # Increment count if item is already in the dictionary\n",
    "        else:\n",
    "            counts[item] = 1   # Initialize count to 1 if item is not in the dictionary\n",
    "\n",
    "    return counts  # Return the dictionary with counts\n",
    "\n",
    "# Example usage:\n",
    "example_list = [1, 2, 2, 3, 3, 3, 4, 4, 4, 4]\n",
    "print(count_occurrences(example_list))"
   ]
  },
  {
   "cell_type": "code",
   "execution_count": null,
   "id": "8db10976-c1c4-407c-87c6-5dbfa955e33e",
   "metadata": {},
   "outputs": [],
   "source": []
  }
 ],
 "metadata": {
  "kernelspec": {
   "display_name": "Python 3 (ipykernel)",
   "language": "python",
   "name": "python3"
  },
  "language_info": {
   "codemirror_mode": {
    "name": "ipython",
    "version": 3
   },
   "file_extension": ".py",
   "mimetype": "text/x-python",
   "name": "python",
   "nbconvert_exporter": "python",
   "pygments_lexer": "ipython3",
   "version": "3.12.3"
  }
 },
 "nbformat": 4,
 "nbformat_minor": 5
}
